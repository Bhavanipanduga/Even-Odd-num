{
 "cells": [
  {
   "cell_type": "code",
   "execution_count": null,
   "id": "de7b9455",
   "metadata": {},
   "outputs": [],
   "source": [
    "numbers=(1,2,3,4,5,6,7,8,9)\n",
    "even = 0\n",
    "odd = 0\n",
    "for x in numbers:\n",
    "    if x%2:\n",
    "        even+=1\n",
    "    else"
   ]
  }
 ],
 "metadata": {
  "kernelspec": {
   "display_name": "Python 3 (ipykernel)",
   "language": "python",
   "name": "python3"
  },
  "language_info": {
   "codemirror_mode": {
    "name": "ipython",
    "version": 3
   },
   "file_extension": ".py",
   "mimetype": "text/x-python",
   "name": "python",
   "nbconvert_exporter": "python",
   "pygments_lexer": "ipython3",
   "version": "3.7.9"
  }
 },
 "nbformat": 4,
 "nbformat_minor": 5
}
